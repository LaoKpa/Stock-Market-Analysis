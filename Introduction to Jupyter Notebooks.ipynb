{
 "cells": [
  {
   "cell_type": "markdown",
   "metadata": {},
   "source": [
    "## <center> Getting Started with Jupyter Notebooks"
   ]
  },
  {
   "cell_type": "markdown",
   "metadata": {},
   "source": [
    "The Jupyter notebook (formerly known as IPython notebooks) is a fantastic tool that every data scientist should know. The Jupyter notebook is an open-source data science tool that allows you to write and execute code, add text and images -- all within the same \"document\" called a _notebook_.  \n",
    "\n",
    "For example, the gray cell below is a _code cell_. Within code cells, you can write code and execute them. Try executing the code cell below:"
   ]
  },
  {
   "cell_type": "markdown",
   "metadata": {},
   "source": [
    "Click the cell below and press $Shift+Enter$ on your keyboard to run the code:"
   ]
  },
  {
   "cell_type": "code",
   "execution_count": 3,
   "metadata": {
    "collapsed": false,
    "jupyter": {
     "outputs_hidden": false
    }
   },
   "outputs": [
    {
     "name": "stdout",
     "output_type": "stream",
     "text": [
      "Hello World!\n"
     ]
    }
   ],
   "source": [
    "x = \"Hello World!\"\n",
    "print(x)"
   ]
  },
  {
   "cell_type": "markdown",
   "metadata": {},
   "source": [
    "The code is executed using the specific interpreter for this notebook. In this notebook, by default you are using **Python 3**, which you should see in the top-right corner. There are other interpreters you can choose from (e.g., Python 2, R, Scala), but more on this later. For now, just remember that you can only use one programming language at a time in the same Jupyter notebook."
   ]
  },
  {
   "cell_type": "markdown",
   "metadata": {},
   "source": [
    "Note that variables you create are also stored **in memory**. For example, if you run `print(x)` again, it will use the previously-assigned value of x (\"Hello World!).   \n",
    "\n",
    "Try running the cell below:"
   ]
  },
  {
   "cell_type": "code",
   "execution_count": 4,
   "metadata": {
    "collapsed": false,
    "jupyter": {
     "outputs_hidden": false
    }
   },
   "outputs": [
    {
     "name": "stdout",
     "output_type": "stream",
     "text": [
      "Hello World!\n"
     ]
    }
   ],
   "source": [
    "print(x)"
   ]
  },
  {
   "cell_type": "markdown",
   "metadata": {},
   "source": [
    "You can also try **creating your own code cells**.   \n",
    "\n",
    "Single-click on the line below, and in the top-menu, click on **Insert -> Insert Cell Below** to create a new code cell.  \n",
    "\n",
    "Try creating a new code cell now."
   ]
  },
  {
   "cell_type": "markdown",
   "metadata": {},
   "source": [
    "<hr>"
   ]
  },
  {
   "cell_type": "markdown",
   "metadata": {},
   "source": [
    "Now that you know how to create a code cell, try writing in some code like:\n",
    "```\n",
    "y = 1 + 1\n",
    "print(y)\n",
    "```\n",
    "and executing it."
   ]
  },
  {
   "cell_type": "code",
   "execution_count": 5,
   "metadata": {},
   "outputs": [
    {
     "name": "stdout",
     "output_type": "stream",
     "text": [
      "2\n"
     ]
    }
   ],
   "source": [
    "y = 1+1\n",
    "print(y)"
   ]
  },
  {
   "cell_type": "markdown",
   "metadata": {},
   "source": [
    " "
   ]
  },
  {
   "cell_type": "markdown",
   "metadata": {},
   "source": [
    "### Markdown Cells"
   ]
  },
  {
   "cell_type": "markdown",
   "metadata": {},
   "source": [
    "At this point you might be wondering how you can add in text -- like this sentence -- to your notebook. These are special types of cells called **\"markdown cells\"**. _Markdown_ simply refers to the type of formatting style.\n",
    "\n",
    "To create a Markdown cell, first click on a code cell, then convert it to \"markdown\" by clicking on the drop-down menu, and choosing \"Markdown\":"
   ]
  },
  {
   "cell_type": "markdown",
   "metadata": {
    "jupyter": {
     "outputs_hidden": false
    }
   },
   "source": [
    "Try converting this to a Markdown Cell, then press Shift+Enter."
   ]
  },
  {
   "cell_type": "markdown",
   "metadata": {},
   "source": [
    "To **edit Markdown cells**, you can simply double-click anywhere on a cell, and it will become edit-able."
   ]
  },
  {
   "cell_type": "markdown",
   "metadata": {},
   "source": [
    "The combination of writing code, executing them, and with text documentation makes these notebooks excellent for data science projects."
   ]
  },
  {
   "cell_type": "markdown",
   "metadata": {},
   "source": [
    "## Here are some cool tips and tricks that you can use with Markdown formatting:"
   ]
  },
  {
   "cell_type": "markdown",
   "metadata": {},
   "source": [
    "<a id=\"Change this into a code cell\"></a>\n",
    "# Great\n",
    "## Wow\n",
    "### Amazing\n",
    "#### Super\n",
    "\n",
    "1. Eat\n",
    "2. _Sleep_\n",
    "3. **Code**\n",
    "> Build machine learning models  \n",
    "\n",
    "<center>`Write more code`</center>\n",
    "\n",
    "- double click this cell to edit \n",
    "- memo\n",
    "\n",
    "Create fancy $functions$\n",
    "\n",
    "<font color=\"magenta\">Data Science</font>  \n",
    "\n",
    "<img src=\"https://res.cloudinary.com/teepublic/image/private/s--3zCmuCLC--/t_Preview/b_rgb:ffffff,c_limit,f_jpg,h_630,q_90,w_630/v1531829631/production/designs/2901120_1.jpg\" width=100 align=left>  "
   ]
  },
  {
   "cell_type": "markdown",
   "metadata": {},
   "source": [
    "# <center> Advanced tips: </center>"
   ]
  },
  {
   "cell_type": "markdown",
   "metadata": {},
   "source": [
    "### Creating new notebooks"
   ]
  },
  {
   "cell_type": "markdown",
   "metadata": {},
   "source": [
    "To create your own (new) notebook, click on File > New Notebook."
   ]
  },
  {
   "cell_type": "markdown",
   "metadata": {},
   "source": [
    "### Importing notebooks"
   ]
  },
  {
   "cell_type": "markdown",
   "metadata": {},
   "source": [
    "There option in File \"Import Notebook\""
   ]
  },
  {
   "cell_type": "markdown",
   "metadata": {},
   "source": [
    "### Saving notebooks"
   ]
  },
  {
   "cell_type": "markdown",
   "metadata": {},
   "source": [
    "Notebooks save automatically every 120 seconds, but to save manually, you can click on **File -> Save Notebook** from the menu."
   ]
  },
  {
   "cell_type": "markdown",
   "metadata": {},
   "source": [
    "### Deleting notebooks"
   ]
  },
  {
   "cell_type": "markdown",
   "metadata": {},
   "source": [
    "To delete a notebook, in the left-hand file browser, you can **right-click** a file and choose **Delete**."
   ]
  },
  {
   "cell_type": "markdown",
   "metadata": {},
   "source": [
    "### Renaming notebooks"
   ]
  },
  {
   "cell_type": "markdown",
   "metadata": {},
   "source": [
    "To rename a notebook, in the left-hand file browser, you can **right-click** a file and choose **Rename**."
   ]
  },
  {
   "cell_type": "markdown",
   "metadata": {},
   "source": [
    "<hr>"
   ]
  }
 ],
 "metadata": {
  "kernelspec": {
   "display_name": "Python",
   "language": "python",
   "name": "conda-env-python-py"
  },
  "language_info": {
   "codemirror_mode": {
    "name": "ipython",
    "version": 3
   },
   "file_extension": ".py",
   "mimetype": "text/x-python",
   "name": "python",
   "nbconvert_exporter": "python",
   "pygments_lexer": "ipython3",
   "version": "3.6.7"
  },
  "widgets": {
   "state": {},
   "version": "1.1.2"
  }
 },
 "nbformat": 4,
 "nbformat_minor": 4
}
